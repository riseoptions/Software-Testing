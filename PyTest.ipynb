{
  "nbformat": 4,
  "nbformat_minor": 0,
  "metadata": {
    "colab": {
      "provenance": []
    },
    "kernelspec": {
      "name": "python3",
      "display_name": "Python 3"
    },
    "language_info": {
      "name": "python"
    }
  },
  "cells": [
    {
      "cell_type": "markdown",
      "source": [
        "# Failid & Colab"
      ],
      "metadata": {
        "id": "FFktm3rvZtrc"
      }
    },
    {
      "cell_type": "code",
      "source": [
        "import os\n",
        "\n",
        "# Kuvab kõik failid ja kaustad töölehe vaikimisi kaustas\n",
        "file_list = os.listdir('/content')\n",
        "print(file_list)\n"
      ],
      "metadata": {
        "colab": {
          "base_uri": "https://localhost:8080/"
        },
        "id": "pEHNGJw0Og0E",
        "outputId": "47a382cd-cd6a-4c36-8487-5f3943b9434f"
      },
      "execution_count": 33,
      "outputs": [
        {
          "output_type": "stream",
          "name": "stdout",
          "text": [
            "['.config', 'test_data.json', 'test_script.py', '.pytest_cache', 'test_user_model1.py', '__pycache__', 'test_user_model.py', 'sample_data']\n"
          ]
        }
      ]
    },
    {
      "cell_type": "code",
      "source": [
        "import glob\n",
        "\n",
        "# Kuvab kõik failid ja kaustad töölehe vaikimisi kaustas\n",
        "file_list = glob.glob('/content/*')\n",
        "print(file_list)\n"
      ],
      "metadata": {
        "colab": {
          "base_uri": "https://localhost:8080/"
        },
        "id": "95muyCuSOlNM",
        "outputId": "7ed35ca7-34fd-4e1d-bfc2-77216f655d4b"
      },
      "execution_count": 3,
      "outputs": [
        {
          "output_type": "stream",
          "name": "stdout",
          "text": [
            "['/content/test_data.json', '/content/sample_data']\n"
          ]
        }
      ]
    },
    {
      "cell_type": "code",
      "source": [
        "'''from google.colab import drive\n",
        "drive.mount('/content/drive')\n",
        "'''"
      ],
      "metadata": {
        "colab": {
          "base_uri": "https://localhost:8080/",
          "height": 35
        },
        "id": "ZtziZQSVOsBI",
        "outputId": "50f3accc-c5f0-4f73-c8f3-cc99400ff417"
      },
      "execution_count": 19,
      "outputs": [
        {
          "output_type": "execute_result",
          "data": {
            "text/plain": [
              "\"from google.colab import drive\\ndrive.mount('/content/drive')\\n\""
            ],
            "application/vnd.google.colaboratory.intrinsic+json": {
              "type": "string"
            }
          },
          "metadata": {},
          "execution_count": 19
        }
      ]
    },
    {
      "cell_type": "code",
      "source": [
        "'''import os\n",
        "\n",
        "# Näitab failide nimekirja Google Drive'is, näiteks kaustas \"My Drive\"\n",
        "file_list = os.listdir('/content/drive/My Drive')\n",
        "print(file_list)\n",
        "'''"
      ],
      "metadata": {
        "colab": {
          "base_uri": "https://localhost:8080/",
          "height": 52
        },
        "id": "N-05t1PQO0AZ",
        "outputId": "2254ab1e-61b8-4d6b-b75e-ee8607271c28"
      },
      "execution_count": 20,
      "outputs": [
        {
          "output_type": "execute_result",
          "data": {
            "text/plain": [
              "'import os\\n\\n# Näitab failide nimekirja Google Drive\\'is, näiteks kaustas \"My Drive\"\\nfile_list = os.listdir(\\'/content/drive/My Drive\\')\\nprint(file_list)\\n'"
            ],
            "application/vnd.google.colaboratory.intrinsic+json": {
              "type": "string"
            }
          },
          "metadata": {},
          "execution_count": 20
        }
      ]
    },
    {
      "cell_type": "code",
      "source": [
        "from google.colab import files\n",
        "\n",
        "# Laadi fail üles ja näita nimekirja\n",
        "uploaded = files.upload()\n",
        "for filename in uploaded.keys():\n",
        "    print('User uploaded file \"{name}\" with length {length} bytes'.format(name=filename, length=len(uploaded[filename])))\n"
      ],
      "metadata": {
        "colab": {
          "base_uri": "https://localhost:8080/",
          "height": 90
        },
        "id": "lE1fDhqaO6BM",
        "outputId": "a0e65f48-68cc-437e-a1eb-288529d4b298"
      },
      "execution_count": 26,
      "outputs": [
        {
          "output_type": "display_data",
          "data": {
            "text/plain": [
              "<IPython.core.display.HTML object>"
            ],
            "text/html": [
              "\n",
              "     <input type=\"file\" id=\"files-a216a820-0a83-4ba0-bbc8-55c4cfc0563c\" name=\"files[]\" multiple disabled\n",
              "        style=\"border:none\" />\n",
              "     <output id=\"result-a216a820-0a83-4ba0-bbc8-55c4cfc0563c\">\n",
              "      Upload widget is only available when the cell has been executed in the\n",
              "      current browser session. Please rerun this cell to enable.\n",
              "      </output>\n",
              "      <script>// Copyright 2017 Google LLC\n",
              "//\n",
              "// Licensed under the Apache License, Version 2.0 (the \"License\");\n",
              "// you may not use this file except in compliance with the License.\n",
              "// You may obtain a copy of the License at\n",
              "//\n",
              "//      http://www.apache.org/licenses/LICENSE-2.0\n",
              "//\n",
              "// Unless required by applicable law or agreed to in writing, software\n",
              "// distributed under the License is distributed on an \"AS IS\" BASIS,\n",
              "// WITHOUT WARRANTIES OR CONDITIONS OF ANY KIND, either express or implied.\n",
              "// See the License for the specific language governing permissions and\n",
              "// limitations under the License.\n",
              "\n",
              "/**\n",
              " * @fileoverview Helpers for google.colab Python module.\n",
              " */\n",
              "(function(scope) {\n",
              "function span(text, styleAttributes = {}) {\n",
              "  const element = document.createElement('span');\n",
              "  element.textContent = text;\n",
              "  for (const key of Object.keys(styleAttributes)) {\n",
              "    element.style[key] = styleAttributes[key];\n",
              "  }\n",
              "  return element;\n",
              "}\n",
              "\n",
              "// Max number of bytes which will be uploaded at a time.\n",
              "const MAX_PAYLOAD_SIZE = 100 * 1024;\n",
              "\n",
              "function _uploadFiles(inputId, outputId) {\n",
              "  const steps = uploadFilesStep(inputId, outputId);\n",
              "  const outputElement = document.getElementById(outputId);\n",
              "  // Cache steps on the outputElement to make it available for the next call\n",
              "  // to uploadFilesContinue from Python.\n",
              "  outputElement.steps = steps;\n",
              "\n",
              "  return _uploadFilesContinue(outputId);\n",
              "}\n",
              "\n",
              "// This is roughly an async generator (not supported in the browser yet),\n",
              "// where there are multiple asynchronous steps and the Python side is going\n",
              "// to poll for completion of each step.\n",
              "// This uses a Promise to block the python side on completion of each step,\n",
              "// then passes the result of the previous step as the input to the next step.\n",
              "function _uploadFilesContinue(outputId) {\n",
              "  const outputElement = document.getElementById(outputId);\n",
              "  const steps = outputElement.steps;\n",
              "\n",
              "  const next = steps.next(outputElement.lastPromiseValue);\n",
              "  return Promise.resolve(next.value.promise).then((value) => {\n",
              "    // Cache the last promise value to make it available to the next\n",
              "    // step of the generator.\n",
              "    outputElement.lastPromiseValue = value;\n",
              "    return next.value.response;\n",
              "  });\n",
              "}\n",
              "\n",
              "/**\n",
              " * Generator function which is called between each async step of the upload\n",
              " * process.\n",
              " * @param {string} inputId Element ID of the input file picker element.\n",
              " * @param {string} outputId Element ID of the output display.\n",
              " * @return {!Iterable<!Object>} Iterable of next steps.\n",
              " */\n",
              "function* uploadFilesStep(inputId, outputId) {\n",
              "  const inputElement = document.getElementById(inputId);\n",
              "  inputElement.disabled = false;\n",
              "\n",
              "  const outputElement = document.getElementById(outputId);\n",
              "  outputElement.innerHTML = '';\n",
              "\n",
              "  const pickedPromise = new Promise((resolve) => {\n",
              "    inputElement.addEventListener('change', (e) => {\n",
              "      resolve(e.target.files);\n",
              "    });\n",
              "  });\n",
              "\n",
              "  const cancel = document.createElement('button');\n",
              "  inputElement.parentElement.appendChild(cancel);\n",
              "  cancel.textContent = 'Cancel upload';\n",
              "  const cancelPromise = new Promise((resolve) => {\n",
              "    cancel.onclick = () => {\n",
              "      resolve(null);\n",
              "    };\n",
              "  });\n",
              "\n",
              "  // Wait for the user to pick the files.\n",
              "  const files = yield {\n",
              "    promise: Promise.race([pickedPromise, cancelPromise]),\n",
              "    response: {\n",
              "      action: 'starting',\n",
              "    }\n",
              "  };\n",
              "\n",
              "  cancel.remove();\n",
              "\n",
              "  // Disable the input element since further picks are not allowed.\n",
              "  inputElement.disabled = true;\n",
              "\n",
              "  if (!files) {\n",
              "    return {\n",
              "      response: {\n",
              "        action: 'complete',\n",
              "      }\n",
              "    };\n",
              "  }\n",
              "\n",
              "  for (const file of files) {\n",
              "    const li = document.createElement('li');\n",
              "    li.append(span(file.name, {fontWeight: 'bold'}));\n",
              "    li.append(span(\n",
              "        `(${file.type || 'n/a'}) - ${file.size} bytes, ` +\n",
              "        `last modified: ${\n",
              "            file.lastModifiedDate ? file.lastModifiedDate.toLocaleDateString() :\n",
              "                                    'n/a'} - `));\n",
              "    const percent = span('0% done');\n",
              "    li.appendChild(percent);\n",
              "\n",
              "    outputElement.appendChild(li);\n",
              "\n",
              "    const fileDataPromise = new Promise((resolve) => {\n",
              "      const reader = new FileReader();\n",
              "      reader.onload = (e) => {\n",
              "        resolve(e.target.result);\n",
              "      };\n",
              "      reader.readAsArrayBuffer(file);\n",
              "    });\n",
              "    // Wait for the data to be ready.\n",
              "    let fileData = yield {\n",
              "      promise: fileDataPromise,\n",
              "      response: {\n",
              "        action: 'continue',\n",
              "      }\n",
              "    };\n",
              "\n",
              "    // Use a chunked sending to avoid message size limits. See b/62115660.\n",
              "    let position = 0;\n",
              "    do {\n",
              "      const length = Math.min(fileData.byteLength - position, MAX_PAYLOAD_SIZE);\n",
              "      const chunk = new Uint8Array(fileData, position, length);\n",
              "      position += length;\n",
              "\n",
              "      const base64 = btoa(String.fromCharCode.apply(null, chunk));\n",
              "      yield {\n",
              "        response: {\n",
              "          action: 'append',\n",
              "          file: file.name,\n",
              "          data: base64,\n",
              "        },\n",
              "      };\n",
              "\n",
              "      let percentDone = fileData.byteLength === 0 ?\n",
              "          100 :\n",
              "          Math.round((position / fileData.byteLength) * 100);\n",
              "      percent.textContent = `${percentDone}% done`;\n",
              "\n",
              "    } while (position < fileData.byteLength);\n",
              "  }\n",
              "\n",
              "  // All done.\n",
              "  yield {\n",
              "    response: {\n",
              "      action: 'complete',\n",
              "    }\n",
              "  };\n",
              "}\n",
              "\n",
              "scope.google = scope.google || {};\n",
              "scope.google.colab = scope.google.colab || {};\n",
              "scope.google.colab._files = {\n",
              "  _uploadFiles,\n",
              "  _uploadFilesContinue,\n",
              "};\n",
              "})(self);\n",
              "</script> "
            ]
          },
          "metadata": {}
        },
        {
          "output_type": "stream",
          "name": "stdout",
          "text": [
            "Saving test_user_model.py to test_user_model.py\n",
            "User uploaded file \"test_user_model.py\" with length 1699 bytes\n"
          ]
        }
      ]
    },
    {
      "cell_type": "markdown",
      "source": [
        "# **PyTest**"
      ],
      "metadata": {
        "id": "DPvS4laGZ048"
      }
    },
    {
      "cell_type": "markdown",
      "source": [
        "test_script.py"
      ],
      "metadata": {
        "id": "_Tw9rphZUjpP"
      }
    },
    {
      "cell_type": "code",
      "source": [
        "import random\n",
        "import json\n",
        "import pytest\n",
        "\n",
        "# Andmete genereerimise funktsioon\n",
        "def generate_random_data():\n",
        "    \"\"\"Generates random JSON data.\"\"\"\n",
        "    data = {\n",
        "        \"user_id\": random.randint(1, 1000),\n",
        "        \"user_name\": f\"User{random.randint(1, 1000)}\",\n",
        "        \"email\": f\"user{random.randint(1, 1000)}@example.com\",\n",
        "        \"age\": random.randint(18, 99),\n",
        "        \"is_active\": random.choice([True, False])\n",
        "    }\n",
        "    return data\n",
        "\n",
        "# Näidis testid\n",
        "@pytest.fixture\n",
        "def load_test_data():\n",
        "    \"\"\"Fixture to generate random data.\"\"\"\n",
        "    return generate_random_data()\n",
        "\n",
        "def test_user_id(load_test_data):\n",
        "    data = load_test_data\n",
        "    assert isinstance(data[\"user_id\"], int)\n",
        "    assert 1 <= data[\"user_id\"] <= 1000\n",
        "\n",
        "def test_user_name(load_test_data):\n",
        "    data = load_test_data\n",
        "    assert isinstance(data[\"user_name\"], str)\n",
        "    assert data[\"user_name\"].startswith(\"User\")\n",
        "\n",
        "def test_email_format(load_test_data):\n",
        "    data = load_test_data\n",
        "    assert isinstance(data[\"email\"], str)\n",
        "    assert \"@\" in data[\"email\"]\n",
        "\n",
        "def test_age(load_test_data):\n",
        "    data = load_test_data\n",
        "    assert isinstance(data[\"age\"], int)\n",
        "    assert 18 <= data[\"age\"] <= 99\n",
        "\n",
        "def test_is_active(load_test_data):\n",
        "    data = load_test_data\n",
        "    assert isinstance(data[\"is_active\"], bool)\n"
      ],
      "metadata": {
        "id": "Ub8XJIUFQChS"
      },
      "execution_count": 9,
      "outputs": []
    },
    {
      "cell_type": "code",
      "source": [
        "!pytest -q --tb=short\n"
      ],
      "metadata": {
        "colab": {
          "base_uri": "https://localhost:8080/"
        },
        "id": "bk0Wg7m0QDzr",
        "outputId": "22d12ca8-ba6a-4f7d-c2e4-6b8eb9bcd117"
      },
      "execution_count": 17,
      "outputs": [
        {
          "output_type": "stream",
          "name": "stdout",
          "text": [
            "\u001b[32m.\u001b[0m\u001b[32m.\u001b[0m\u001b[32m.\u001b[0m\u001b[32m.\u001b[0m\u001b[32m.\u001b[0m\u001b[32m                                                                                        [100%]\u001b[0m\n",
            "\u001b[32m\u001b[32m\u001b[1m5 passed\u001b[0m\u001b[32m in 0.01s\u001b[0m\u001b[0m\n"
          ]
        }
      ]
    },
    {
      "cell_type": "code",
      "source": [
        "!pytest -v --tb=short /content/test_script.py\n"
      ],
      "metadata": {
        "colab": {
          "base_uri": "https://localhost:8080/"
        },
        "id": "9TYekRzoTpru",
        "outputId": "077d0afc-9cbb-48f1-e0fc-26264b7f9666"
      },
      "execution_count": 16,
      "outputs": [
        {
          "output_type": "stream",
          "name": "stdout",
          "text": [
            "\u001b[1m======================================= test session starts ========================================\u001b[0m\n",
            "platform linux -- Python 3.10.12, pytest-7.4.4, pluggy-1.5.0 -- /usr/bin/python3\n",
            "cachedir: .pytest_cache\n",
            "rootdir: /content\n",
            "plugins: anyio-3.7.1, typeguard-4.3.0\n",
            "\u001b[1mcollecting ... \u001b[0m\u001b[1m\rcollected 5 items                                                                                  \u001b[0m\n",
            "\n",
            "test_script.py::test_user_id \u001b[32mPASSED\u001b[0m\u001b[32m                                                          [ 20%]\u001b[0m\n",
            "test_script.py::test_user_name \u001b[32mPASSED\u001b[0m\u001b[32m                                                        [ 40%]\u001b[0m\n",
            "test_script.py::test_email_format \u001b[32mPASSED\u001b[0m\u001b[32m                                                     [ 60%]\u001b[0m\n",
            "test_script.py::test_age \u001b[32mPASSED\u001b[0m\u001b[32m                                                              [ 80%]\u001b[0m\n",
            "test_script.py::test_is_active \u001b[32mPASSED\u001b[0m\u001b[32m                                                        [100%]\u001b[0m\n",
            "\n",
            "\u001b[32m======================================== \u001b[32m\u001b[1m5 passed\u001b[0m\u001b[32m in 0.02s\u001b[0m\u001b[32m =========================================\u001b[0m\n"
          ]
        }
      ]
    },
    {
      "cell_type": "markdown",
      "source": [
        "# PyTest & Pydantic"
      ],
      "metadata": {
        "id": "cpRPUpdOZi-0"
      }
    },
    {
      "cell_type": "code",
      "source": [
        "!pip install email-validator pydantic pytest"
      ],
      "metadata": {
        "colab": {
          "base_uri": "https://localhost:8080/"
        },
        "id": "fkOcZpkAV0_8",
        "outputId": "31ef6483-8522-42e8-8dea-5f9ad399b3b7"
      },
      "execution_count": 22,
      "outputs": [
        {
          "output_type": "stream",
          "name": "stdout",
          "text": [
            "Collecting email-validator\n",
            "  Downloading email_validator-2.2.0-py3-none-any.whl.metadata (25 kB)\n",
            "Requirement already satisfied: pydantic in /usr/local/lib/python3.10/dist-packages (2.8.2)\n",
            "Requirement already satisfied: pytest in /usr/local/lib/python3.10/dist-packages (7.4.4)\n",
            "Collecting dnspython>=2.0.0 (from email-validator)\n",
            "  Downloading dnspython-2.6.1-py3-none-any.whl.metadata (5.8 kB)\n",
            "Requirement already satisfied: idna>=2.0.0 in /usr/local/lib/python3.10/dist-packages (from email-validator) (3.8)\n",
            "Requirement already satisfied: annotated-types>=0.4.0 in /usr/local/lib/python3.10/dist-packages (from pydantic) (0.7.0)\n",
            "Requirement already satisfied: pydantic-core==2.20.1 in /usr/local/lib/python3.10/dist-packages (from pydantic) (2.20.1)\n",
            "Requirement already satisfied: typing-extensions>=4.6.1 in /usr/local/lib/python3.10/dist-packages (from pydantic) (4.12.2)\n",
            "Requirement already satisfied: iniconfig in /usr/local/lib/python3.10/dist-packages (from pytest) (2.0.0)\n",
            "Requirement already satisfied: packaging in /usr/local/lib/python3.10/dist-packages (from pytest) (24.1)\n",
            "Requirement already satisfied: pluggy<2.0,>=0.12 in /usr/local/lib/python3.10/dist-packages (from pytest) (1.5.0)\n",
            "Requirement already satisfied: exceptiongroup>=1.0.0rc8 in /usr/local/lib/python3.10/dist-packages (from pytest) (1.2.2)\n",
            "Requirement already satisfied: tomli>=1.0.0 in /usr/local/lib/python3.10/dist-packages (from pytest) (2.0.1)\n",
            "Downloading email_validator-2.2.0-py3-none-any.whl (33 kB)\n",
            "Downloading dnspython-2.6.1-py3-none-any.whl (307 kB)\n",
            "\u001b[2K   \u001b[90m━━━━━━━━━━━━━━━━━━━━━━━━━━━━━━━━━━━━━━━━\u001b[0m \u001b[32m307.7/307.7 kB\u001b[0m \u001b[31m14.5 MB/s\u001b[0m eta \u001b[36m0:00:00\u001b[0m\n",
            "\u001b[?25hInstalling collected packages: dnspython, email-validator\n",
            "Successfully installed dnspython-2.6.1 email-validator-2.2.0\n"
          ]
        }
      ]
    },
    {
      "cell_type": "code",
      "source": [
        "from pydantic import BaseModel, EmailStr, constr\n",
        "import random\n",
        "import pytest\n",
        "\n",
        "# Pydantic mudel andmete valideerimiseks\n",
        "class User(BaseModel):\n",
        "    user_id: int\n",
        "    user_name: constr(min_length=1)\n",
        "    email: EmailStr\n",
        "    age: int\n",
        "    is_active: bool\n",
        "\n",
        "    class Config:\n",
        "        schema_extra = {\n",
        "            \"example\": {\n",
        "                \"user_id\": 1,\n",
        "                \"user_name\": \"User1\",\n",
        "                \"email\": \"user1@example.com\",\n",
        "                \"age\": 30,\n",
        "                \"is_active\": True\n",
        "            }\n",
        "        }\n",
        "\n",
        "def generate_random_user_data():\n",
        "    \"\"\"Generates random user data.\"\"\"\n",
        "    data = {\n",
        "        \"user_id\": random.randint(1, 1000),\n",
        "        \"user_name\": f\"User{random.randint(1, 1000)}\",\n",
        "        \"email\": f\"user{random.randint(1, 1000)}@example.com\",\n",
        "        \"age\": random.randint(18, 99),\n",
        "        \"is_active\": random.choice([True, False])\n",
        "    }\n",
        "    return data\n",
        "\n",
        "@pytest.fixture\n",
        "def load_test_data():\n",
        "    \"\"\"Fixture to generate random user data.\"\"\"\n",
        "    return generate_random_user_data()\n",
        "\n",
        "def test_user_model(load_test_data):\n",
        "    \"\"\"Test that the generated data adheres to the User model.\"\"\"\n",
        "    data = load_test_data\n",
        "    user = User(**data)\n",
        "    assert isinstance(user, User)\n",
        "    assert user.user_id == data[\"user_id\"]\n",
        "    assert user.user_name == data[\"user_name\"]\n",
        "    assert user.email == data[\"email\"]\n",
        "    assert user.age == data[\"age\"]\n",
        "    assert user.is_active == data[\"is_active\"]\n",
        "\n",
        "def test_user_model_validation(load_test_data):\n",
        "    \"\"\"Test that the generated data validates correctly against the User model.\"\"\"\n",
        "    data = load_test_data\n",
        "    user = User(**data)\n",
        "    assert user.dict() == data\n"
      ],
      "metadata": {
        "colab": {
          "base_uri": "https://localhost:8080/"
        },
        "id": "EJZo942zZcwQ",
        "outputId": "f19f1520-82a0-474d-f954-b2a316a6bded"
      },
      "execution_count": 36,
      "outputs": [
        {
          "output_type": "stream",
          "name": "stderr",
          "text": [
            "/usr/local/lib/python3.10/dist-packages/pydantic/_internal/_config.py:341: UserWarning: Valid config keys have changed in V2:\n",
            "* 'schema_extra' has been renamed to 'json_schema_extra'\n",
            "  warnings.warn(message, UserWarning)\n"
          ]
        }
      ]
    },
    {
      "cell_type": "code",
      "source": [
        "code = '''from pydantic import BaseModel, EmailStr, constr\n",
        "import random\n",
        "import pytest\n",
        "\n",
        "# Pydantic mudel andmete valideerimiseks\n",
        "class User(BaseModel):\n",
        "    user_id: int\n",
        "    user_name: constr(min_length=1)\n",
        "    email: EmailStr\n",
        "    age: int\n",
        "    is_active: bool\n",
        "\n",
        "    class Config:\n",
        "        schema_extra = {\n",
        "            \"example\": {\n",
        "                \"user_id\": 1,\n",
        "                \"user_name\": \"User1\",\n",
        "                \"email\": \"user1@example.com\",\n",
        "                \"age\": 30,\n",
        "                \"is_active\": True\n",
        "            }\n",
        "        }\n",
        "\n",
        "def generate_random_user_data():\n",
        "    \"\"\"Generates random user data.\"\"\"\n",
        "    data = {\n",
        "        \"user_id\": random.randint(1, 1000),\n",
        "        \"user_name\": f\"User{random.randint(1, 1000)}\",\n",
        "        \"email\": f\"user{random.randint(1, 1000)}@example.com\",\n",
        "        \"age\": random.randint(18, 99),\n",
        "        \"is_active\": random.choice([True, False])\n",
        "    }\n",
        "    return data\n",
        "\n",
        "@pytest.fixture\n",
        "def load_test_data():\n",
        "    \"\"\"Fixture to generate random user data.\"\"\"\n",
        "    return generate_random_user_data()\n",
        "\n",
        "def test_user_model(load_test_data):\n",
        "    \"\"\"Test that the generated data adheres to the User model.\"\"\"\n",
        "    data = load_test_data\n",
        "    user = User(**data)\n",
        "    assert isinstance(user, User)\n",
        "    assert user.user_id == data[\"user_id\"]\n",
        "    assert user.user_name == data[\"user_name\"]\n",
        "    assert user.email == data[\"email\"]\n",
        "    assert user.age == data[\"age\"]\n",
        "    assert user.is_active == data[\"is_active\"]\n",
        "\n",
        "def test_user_model_validation(load_test_data):\n",
        "    \"\"\"Test that the generated data validates correctly against the User model.\"\"\"\n",
        "    data = load_test_data\n",
        "    user = User(**data)\n",
        "    assert user.dict() == data\n",
        "'''\n",
        "# Salvestame faili test_user_model.py\n",
        "with open('test_user_model1.py', 'w') as file:\n",
        "    file.write(code)"
      ],
      "metadata": {
        "id": "8P_3tcUmYVgF"
      },
      "execution_count": 32,
      "outputs": []
    },
    {
      "cell_type": "code",
      "source": [
        "!pytest -v --tb=short\n"
      ],
      "metadata": {
        "colab": {
          "base_uri": "https://localhost:8080/"
        },
        "id": "fR3Vji5JW6-n",
        "outputId": "017df0b4-ca68-4b6c-e167-3359c66d8e9b"
      },
      "execution_count": 35,
      "outputs": [
        {
          "output_type": "stream",
          "name": "stdout",
          "text": [
            "\u001b[1m======================================= test session starts ========================================\u001b[0m\n",
            "platform linux -- Python 3.10.12, pytest-7.4.4, pluggy-1.5.0 -- /usr/bin/python3\n",
            "cachedir: .pytest_cache\n",
            "rootdir: /content\n",
            "plugins: anyio-3.7.1, typeguard-4.3.0\n",
            "\u001b[1mcollecting ... \u001b[0m\u001b[1m\rcollected 9 items                                                                                  \u001b[0m\n",
            "\n",
            "test_script.py::test_user_id \u001b[32mPASSED\u001b[0m\u001b[33m                                                          [ 11%]\u001b[0m\n",
            "test_script.py::test_user_name \u001b[32mPASSED\u001b[0m\u001b[33m                                                        [ 22%]\u001b[0m\n",
            "test_script.py::test_email_format \u001b[32mPASSED\u001b[0m\u001b[33m                                                     [ 33%]\u001b[0m\n",
            "test_script.py::test_age \u001b[32mPASSED\u001b[0m\u001b[33m                                                              [ 44%]\u001b[0m\n",
            "test_script.py::test_is_active \u001b[32mPASSED\u001b[0m\u001b[33m                                                        [ 55%]\u001b[0m\n",
            "test_user_model.py::test_user_model \u001b[32mPASSED\u001b[0m\u001b[33m                                                   [ 66%]\u001b[0m\n",
            "test_user_model.py::test_user_model_validation \u001b[32mPASSED\u001b[0m\u001b[33m                                        [ 77%]\u001b[0m\n",
            "test_user_model1.py::test_user_model \u001b[32mPASSED\u001b[0m\u001b[33m                                                  [ 88%]\u001b[0m\n",
            "test_user_model1.py::test_user_model_validation \u001b[32mPASSED\u001b[0m\u001b[33m                                       [100%]\u001b[0m\n",
            "\n",
            "\u001b[33m========================================= warnings summary =========================================\u001b[0m\n",
            "../usr/local/lib/python3.10/dist-packages/pydantic/_internal/_config.py:341\n",
            "  /usr/local/lib/python3.10/dist-packages/pydantic/_internal/_config.py:341: UserWarning: Valid config keys have changed in V2:\n",
            "  * 'schema_extra' has been renamed to 'json_schema_extra'\n",
            "    warnings.warn(message, UserWarning)\n",
            "\n",
            "-- Docs: https://docs.pytest.org/en/stable/how-to/capture-warnings.html\n",
            "\u001b[33m=================================== \u001b[32m9 passed\u001b[0m, \u001b[33m\u001b[1m1 warning\u001b[0m\u001b[33m in 0.26s\u001b[0m\u001b[33m ===================================\u001b[0m\n"
          ]
        }
      ]
    },
    {
      "cell_type": "code",
      "source": [
        "!pytest -v --tb=short /content/test_user_model1.py"
      ],
      "metadata": {
        "colab": {
          "base_uri": "https://localhost:8080/"
        },
        "id": "P5_V8sdZXHIw",
        "outputId": "35630131-a78a-485d-d0ea-aa9bdbec7c9b"
      },
      "execution_count": 34,
      "outputs": [
        {
          "output_type": "stream",
          "name": "stdout",
          "text": [
            "\u001b[1m======================================= test session starts ========================================\u001b[0m\n",
            "platform linux -- Python 3.10.12, pytest-7.4.4, pluggy-1.5.0 -- /usr/bin/python3\n",
            "cachedir: .pytest_cache\n",
            "rootdir: /content\n",
            "plugins: anyio-3.7.1, typeguard-4.3.0\n",
            "\u001b[1mcollecting ... \u001b[0m\u001b[1m\rcollected 2 items                                                                                  \u001b[0m\n",
            "\n",
            "test_user_model1.py::test_user_model \u001b[32mPASSED\u001b[0m\u001b[33m                                                  [ 50%]\u001b[0m\n",
            "test_user_model1.py::test_user_model_validation \u001b[32mPASSED\u001b[0m\u001b[33m                                       [100%]\u001b[0m\n",
            "\n",
            "\u001b[33m========================================= warnings summary =========================================\u001b[0m\n",
            "../usr/local/lib/python3.10/dist-packages/pydantic/_internal/_config.py:341\n",
            "  /usr/local/lib/python3.10/dist-packages/pydantic/_internal/_config.py:341: UserWarning: Valid config keys have changed in V2:\n",
            "  * 'schema_extra' has been renamed to 'json_schema_extra'\n",
            "    warnings.warn(message, UserWarning)\n",
            "\n",
            "-- Docs: https://docs.pytest.org/en/stable/how-to/capture-warnings.html\n",
            "\u001b[33m=================================== \u001b[32m2 passed\u001b[0m, \u001b[33m\u001b[1m1 warning\u001b[0m\u001b[33m in 0.22s\u001b[0m\u001b[33m ===================================\u001b[0m\n"
          ]
        }
      ]
    }
  ]
}