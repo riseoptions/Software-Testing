{
  "nbformat": 4,
  "nbformat_minor": 0,
  "metadata": {
    "colab": {
      "provenance": []
    },
    "kernelspec": {
      "name": "python3",
      "display_name": "Python 3"
    },
    "language_info": {
      "name": "python"
    }
  },
  "cells": [
    {
      "cell_type": "markdown",
      "source": [
        "# **Unittest**"
      ],
      "metadata": {
        "id": "WS-gLNGt37KN"
      }
    },
    {
      "cell_type": "code",
      "source": [
        "import unittest\n",
        "\n",
        "class TestBuiltins(unittest.TestCase):\n",
        "\n",
        "    def test_membership(self):\n",
        "        self.assertIn(\"A\", \"Andalusia\")\n",
        "        self.assertTrue(\"a\" in \"Andalusia\")\n",
        "\n",
        "    def test_instances(self):\n",
        "        self.assertIsInstance(5, int)\n",
        "        self.assertTrue(isinstance(5, int))\n",
        "\n",
        "    def test_falsehood(self):\n",
        "        self.assertFalse(False)\n",
        "\n",
        "if __name__ == '__main__':\n",
        "    suite = unittest.TestLoader().loadTestsFromTestCase(TestBuiltins)\n",
        "    unittest.TextTestRunner().run(suite)\n",
        "\n"
      ],
      "metadata": {
        "colab": {
          "base_uri": "https://localhost:8080/"
        },
        "id": "p97CaweK4zCn",
        "outputId": "1c6c0e88-59f8-478e-987e-327f0ed49e83"
      },
      "execution_count": 59,
      "outputs": [
        {
          "output_type": "stream",
          "name": "stderr",
          "text": [
            "...\n",
            "----------------------------------------------------------------------\n",
            "Ran 3 tests in 0.010s\n",
            "\n",
            "OK\n"
          ]
        }
      ]
    },
    {
      "cell_type": "code",
      "source": [
        "import unittest\n",
        "\n",
        "class TestBuiltins(unittest.TestCase):\n",
        "\n",
        "    def test_membership(self):\n",
        "        self.assertIn(\"A\", \"Andalusia\")  # See peaks failima, kuna \"x\" ei ole \"Andalusia\"-s\n",
        "        self.assertTrue(\"n\" in \"Andalusia\")  # See peaks failima, kuna \"w\" ei ole \"Andalusia\"-s\n",
        "\n",
        "    def test_instances(self):\n",
        "        self.assertIsInstance(5, int)  # See peaks õnnestuma, kuna 5 on int\n",
        "        self.assertTrue(isinstance(5, int))  # See peaks õnnestuma, kuna 5 on int\n",
        "\n",
        "    def test_falsehood(self):\n",
        "        self.assertFalse(False)  # See peaks õnnestuma, kuna False on False\n",
        "\n",
        "if __name__ == '__main__':\n",
        "    suite = unittest.TestLoader().loadTestsFromTestCase(TestBuiltins)\n",
        "    unittest.TextTestRunner().run(suite)\n"
      ],
      "metadata": {
        "colab": {
          "base_uri": "https://localhost:8080/"
        },
        "id": "r3VgA6vCAvhx",
        "outputId": "7f6228bd-1383-4f93-b9f0-f27e97236e85"
      },
      "execution_count": 60,
      "outputs": [
        {
          "output_type": "stream",
          "name": "stderr",
          "text": [
            "...\n",
            "----------------------------------------------------------------------\n",
            "Ran 3 tests in 0.011s\n",
            "\n",
            "OK\n"
          ]
        }
      ]
    },
    {
      "cell_type": "code",
      "execution_count": 47,
      "metadata": {
        "colab": {
          "base_uri": "https://localhost:8080/"
        },
        "id": "AuqVb_773PBu",
        "outputId": "5767c093-b051-4cd1-f28c-1af2e02d5c35"
      },
      "outputs": [
        {
          "output_type": "stream",
          "name": "stderr",
          "text": [
            "...\n",
            "----------------------------------------------------------------------\n",
            "Ran 3 tests in 0.007s\n",
            "\n",
            "OK\n"
          ]
        }
      ],
      "source": [
        "# Python'i standardne moodul testide kirjutamiseks\n",
        "import unittest\n",
        "\n",
        "# Defineerime testiklassi, mis pärib unittest.TestCase klassi. See klass sisaldab erinevaid meetodeid testide läbiviimiseks.\n",
        "class TestBuiltins(unittest.TestCase):\n",
        "\n",
        "    # Testime, kas \"A\" kuulub stringi \"Andalusia\"\n",
        "    def test_membership(self):\n",
        "        # Kontrollime, kas \"A\" on stringis \"Andalusia\" (suur- ja väiketähti arvestatakse)\n",
        "        self.assertIn(\"A\", \"Andalusia\")\n",
        "        # Alternatiivne meetod sama asja kontrollimiseks\n",
        "        self.assertTrue(\"A\" in \"Andalusia\")\n",
        "\n",
        "    # Testime, kas number 5 on täisarvu (int) isend\n",
        "    def test_instances(self):\n",
        "        # Kontrollime, kas väärtus 5 on int tüüpi\n",
        "        self.assertIsInstance(5, int)\n",
        "        # Alternatiivne meetod sama asja kontrollimiseks\n",
        "        self.assertTrue(isinstance(5, int))\n",
        "\n",
        "    # Testime, kas väärtus on False\n",
        "    def test_falsehood(self):\n",
        "        # Kontrollime, kas väärtus on False\n",
        "        self.assertFalse(False)\n",
        "\n",
        "# Kontrollime, kas see skript käivitatakse otse (mitte impordituna)\n",
        "if __name__ == '__main__':\n",
        "    suite = unittest.TestLoader().loadTestsFromTestCase(TestBuiltins)\n",
        "    unittest.TextTestRunner().run(suite)\n"
      ]
    },
    {
      "cell_type": "code",
      "source": [
        "import unittest  # Testide kirjutamise ja käivitamise teek\n",
        "import tempfile  # Ajutiste failide loomiseks kasutatav moodul\n",
        "import time      # Ajamõõtmise ja sellega seotud funktsioonide jaoks\n",
        "import sys       # Süsteemispetsiifiliste parameetrite ja funktsioonide jaoks\n",
        "\n",
        "# Klass, mis testib ajutise faili kasutamist\n",
        "class TestOnTemporaryFile(unittest.TestCase):\n",
        "\n",
        "    # Meetod, mis käivitatakse enne iga testmeetodit\n",
        "    def setUp(self):\n",
        "        print(f\"Running {self.__class__.__name__} setup\")\n",
        "        # Loome ajutise faili, millele saame kirjutada ja lugeda (\"w+t\" tähendab write+text mode)\n",
        "        self.tmp_file = tempfile.TemporaryFile(mode=\"w+t\")\n",
        "\n",
        "    # Meetod, mis käivitatakse pärast iga testmeetodit\n",
        "    def tearDown(self):\n",
        "        print(f\"Running {self.__class__.__name__} teardown\")\n",
        "        # Sulgeme ja kustutame ajutise faili\n",
        "        self.tmp_file.close()\n",
        "\n",
        "    # Testime kirjutamist ajutisse faili\n",
        "    def test_file_write(self):\n",
        "        print(\"Running test_file_write test\")\n",
        "        # Kirjutame stringi \"Hello!\" faili\n",
        "        self.tmp_file.write(\"Hello!\")\n",
        "        # Kontrollime, et suudame faili tagasi lugeda, mida oleme kirjutanud\n",
        "        self.tmp_file.seek(0)  # Liigutame failipea tagasi algusesse, et lugeda kirjutatud sisu\n",
        "        content = self.tmp_file.read()\n",
        "        self.assertEqual(content, \"Hello!\")\n",
        "\n",
        "# Klass, mis testib platvormispetsiifilisi funktsioone\n",
        "class TestPlatformSpecific(unittest.TestCase):\n",
        "\n",
        "    # Jätame selle testi vahele, kuna see pole veel valmis\n",
        "    @unittest.skip(\"This test is not ready\")\n",
        "    def test_not_ready(self):\n",
        "        self.fail(\"I should have been skipped!\")\n",
        "\n",
        "    # Jätame selle testi vahele, kui süsteemi platvorm pole Linux\n",
        "    @unittest.skipUnless(sys.platform == \"linux\", \"requires linux\")\n",
        "    def test_get_boottime_clock(self):\n",
        "        # Kontrollime, et \"CLOCK_BOOTTIME\" on olemas 'time' moodulis (Linux spetsiifiline)\n",
        "        self.assertIn(\"CLOCK_BOOTTIME\", dir(time))\n",
        "\n",
        "    # Jätame selle testi vahele, kui Python versioon on alla 3.0\n",
        "    @unittest.skipIf(sys.version_info.major < 3, \"For Python 3.X only\")\n",
        "    def test_string_instance(self):\n",
        "        # Kontrollime, et 5/2 annab 2.5 (mis on Python 3 käitumine)\n",
        "        self.assertEqual(5 / 2, 2.5)\n",
        "        # Kontrollime, et 5 // 2 annab 2 (täisarvuline jagamine)\n",
        "        self.assertEqual(5 // 2, 12)\n",
        "\n",
        "# Käivitage testid, kui skript käivitatakse otse\n",
        "if __name__ == '__main__':\n",
        "    suite = unittest.TestSuite()\n",
        "    suite.addTests(unittest.TestLoader().loadTestsFromTestCase(TestOnTemporaryFile))\n",
        "    suite.addTests(unittest.TestLoader().loadTestsFromTestCase(TestPlatformSpecific))\n",
        "    unittest.TextTestRunner().run(suite)\n",
        "\n"
      ],
      "metadata": {
        "colab": {
          "base_uri": "https://localhost:8080/"
        },
        "id": "pDoY-twn6wLM",
        "outputId": "c7f1c05d-4b8a-4295-f333-02b66d732cfe"
      },
      "execution_count": 65,
      "outputs": [
        {
          "output_type": "stream",
          "name": "stderr",
          "text": [
            "..sF\n",
            "======================================================================\n",
            "FAIL: test_string_instance (__main__.TestPlatformSpecific)\n",
            "----------------------------------------------------------------------\n",
            "Traceback (most recent call last):\n",
            "  File \"<ipython-input-65-94c49adaa3c4>\", line 51, in test_string_instance\n",
            "    self.assertEqual(5 // 2, 12)\n",
            "AssertionError: 2 != 12\n",
            "\n",
            "----------------------------------------------------------------------\n",
            "Ran 4 tests in 0.013s\n",
            "\n",
            "FAILED (failures=1, skipped=1)\n"
          ]
        },
        {
          "output_type": "stream",
          "name": "stdout",
          "text": [
            "Running TestOnTemporaryFile setup\n",
            "Running test_file_write test\n",
            "Running TestOnTemporaryFile teardown\n"
          ]
        }
      ]
    },
    {
      "cell_type": "code",
      "source": [
        "class Enemy:\n",
        "    def __init__(self, name):\n",
        "        self.name = name\n",
        "        self.lives = 1\n",
        "\n",
        "    def receive_damage(self, damage):\n",
        "        self.lives -= damage\n"
      ],
      "metadata": {
        "id": "lyZe7GXN82vM"
      },
      "execution_count": 49,
      "outputs": []
    },
    {
      "cell_type": "code",
      "source": [
        "class Player:\n",
        "    def __init__(self, name):\n",
        "        self.name = name\n",
        "        self.position_xy = (0, 0)\n",
        "\n",
        "    def reset_position(self):\n",
        "        self.position_xy = (0, 0)\n",
        "\n",
        "    def move_north(self):\n",
        "        x, y = self.position_xy\n",
        "        self.position_xy = (x, y + 1)\n",
        "\n",
        "    def move_east(self):\n",
        "        x, y = self.position_xy\n",
        "        self.position_xy = (x + 1, y)\n",
        "\n",
        "    def move_south(self):\n",
        "        x, y = self.position_xy\n",
        "        self.position_xy = (x, y - 1)\n",
        "\n",
        "    def move_west(self):\n",
        "        x, y = self.position_xy\n",
        "        self.position_xy = (x - 1, y)\n",
        "\n",
        "    def pretty_position(self):\n",
        "        x, y = self.position_xy\n",
        "        return f\"{self.name} went {abs(y)} steps {'south' if y < 0 else 'north'} and {abs(x)} steps {'west' if x < 0 else 'east'}\"\n"
      ],
      "metadata": {
        "id": "xgHtOR3q86uE"
      },
      "execution_count": 50,
      "outputs": []
    },
    {
      "cell_type": "code",
      "source": [
        "import unittest  # Unittest moodul testide loomiseks ja käivitamiseks\n",
        "\n",
        "# Klass, mis testib Enemy objekti initsialiseerimist\n",
        "class EnemyInitTest(unittest.TestCase):\n",
        "\n",
        "    # Testime, et Enemy objekt on korrektselt initsialiseeritud\n",
        "    def test_enemy_init(self):\n",
        "        e = Enemy(\"orc\")  # Loome uue vaenlase nimega \"orc\"\n",
        "        self.assertEqual(e.name, \"orc\")  # Kontrollime, et nimi on \"orc\"\n",
        "        self.assertEqual(e.lives, 1)  # Kontrollime, et elusid on 1\n",
        "\n",
        "# Klass, mis testib vaenlasele kahju tekitamist\n",
        "class EnemyDamageTest(unittest.TestCase):\n",
        "\n",
        "    # Testime, et vaenlane kaotab elu kahju saamisel\n",
        "    def test_enemy_takes_damage(self):\n",
        "        e = Enemy(\"goblin\")  # Loome uue vaenlase nimega \"goblin\"\n",
        "        e.receive_damage(1)  # Teeme vaenlasele kahju 1 elupunkti jagu\n",
        "        self.assertEqual(e.lives, 0)  # Kontrollime, et elusid on nüüd 0\n",
        "\n",
        "# Klass, mis testib mängija liikumist\n",
        "class PlayerMovement(unittest.TestCase):\n",
        "\n",
        "    # setUp meetod luuakse enne iga testi\n",
        "    def setUp(self):\n",
        "        self.player = Player(\"Link\")  # Loome uue mängija nimega \"Link\"\n",
        "\n",
        "    # Testime liikumist põhja suunas\n",
        "    def test_move_north(self):\n",
        "        self.player.reset_position()  # Resetime mängija positsiooni (0, 0)\n",
        "        self.player.move_north()  # Liigutame mängijat põhja suunas\n",
        "        self.assertEqual(self.player.position_xy, (0, 1))  # Kontrollime positsiooni\n",
        "\n",
        "    # Testime liikumist ida suunas\n",
        "    def test_move_east(self):\n",
        "        self.player.reset_position()  # Resetime mängija positsiooni (0, 0)\n",
        "        self.player.move_east()  # Liigutame mängijat ida suunas\n",
        "        self.assertEqual(self.player.position_xy, (1, 0))  # Kontrollime positsiooni\n",
        "\n",
        "    # Testime mängija liikumise kokkuvõtet\n",
        "    def test_pretty_position(self):\n",
        "        self.player.move_south()  # Liigutame mängijat lõunasse\n",
        "        self.player.move_south()  # Liigutame mängijat veel kord lõunasse\n",
        "        self.player.move_west()  # Liigutame mängijat läände\n",
        "        self.player.move_west()  # Liigutame mängijat veel kord läände\n",
        "        self.assertEqual(\n",
        "            self.player.pretty_position(),\n",
        "            \"Link went 2 steps south and 2 steps west\"\n",
        "        )  # Kontrollime liikumise kokkuvõtet\n",
        "\n",
        "# Loome TestSuite objekti, et koondada vaenlase testid ühte kohta\n",
        "enemySuite = unittest.TestSuite()\n",
        "enemySuite.addTests(\n",
        "    [\n",
        "        EnemyInitTest(\"test_enemy_init\"),  # Lisame Enemy initsialiseerimise testi\n",
        "        EnemyDamageTest(\"test_enemy_takes_damage\"),  # Lisame Enemy kahjutesti\n",
        "    ]\n",
        ")\n",
        "\n",
        "# Kui skript käivitatakse otse, käivitame testid\n",
        "if __name__ == \"__main__\":\n",
        "    unittest.TextTestRunner().run(enemySuite)  # Käivitame ainult enemy testid\n"
      ],
      "metadata": {
        "colab": {
          "base_uri": "https://localhost:8080/"
        },
        "id": "0EQiGIk38B1I",
        "outputId": "98c9f865-5583-44d1-e445-42b410e5935c"
      },
      "execution_count": 51,
      "outputs": [
        {
          "output_type": "stream",
          "name": "stderr",
          "text": [
            "..\n",
            "----------------------------------------------------------------------\n",
            "Ran 2 tests in 0.005s\n",
            "\n",
            "OK\n"
          ]
        }
      ]
    },
    {
      "cell_type": "code",
      "source": [
        "class Enemy:\n",
        "    def __init__(self, name):\n",
        "        self.name = name\n",
        "        self.lives = 1\n",
        "\n",
        "    def receive_damage(self, damage):\n",
        "        self.lives -= damage\n",
        "\n",
        "class Player:\n",
        "    def __init__(self, name):\n",
        "        self.name = name\n",
        "        self.position_xy = (0, 0)\n",
        "\n",
        "    def reset_position(self):\n",
        "        self.position_xy = (0, 0)\n",
        "\n",
        "    def move_north(self):\n",
        "        x, y = self.position_xy\n",
        "        self.position_xy = (x, y + 1)\n",
        "\n",
        "    def move_east(self):\n",
        "        x, y = self.position_xy\n",
        "        self.position_xy = (x + 1, y)\n",
        "\n",
        "    def move_south(self):\n",
        "        x, y = self.position_xy\n",
        "        self.position_xy = (x, y - 1)\n",
        "\n",
        "    def move_west(self):\n",
        "        x, y = self.position_xy\n",
        "        self.position_xy = (x - 1, y)\n",
        "\n",
        "    def pretty_position(self):\n",
        "        x, y = self.position_xy\n",
        "        steps_south = abs(y) if y < 0 else 0\n",
        "        steps_north = y if y > 0 else 0\n",
        "        steps_west = abs(x) if x < 0 else 0\n",
        "        steps_east = x if x > 0 else 0\n",
        "\n",
        "        movements = []\n",
        "        if steps_north:\n",
        "            movements.append(f\"{steps_north} steps north\")\n",
        "        if steps_south:\n",
        "            movements.append(f\"{steps_south} steps south\")\n",
        "        if steps_east:\n",
        "            movements.append(f\"{steps_east} steps east\")\n",
        "        if steps_west:\n",
        "            movements.append(f\"{steps_west} steps west\")\n",
        "\n",
        "        return f\"{self.name} went \" + \" and \".join(movements)\n"
      ],
      "metadata": {
        "id": "FAGlFVMpE9Ae"
      },
      "execution_count": 68,
      "outputs": []
    },
    {
      "cell_type": "code",
      "source": [
        "import unittest  # Unittest moodul testide loomiseks ja käivitamiseks\n",
        "\n",
        "\n",
        "# Klass, mis testib Enemy objekti initsialiseerimist\n",
        "class EnemyInitTest(unittest.TestCase):\n",
        "\n",
        "    # Testime, et Enemy objekt on korrektselt initsialiseeritud\n",
        "    def test_enemy_init(self):\n",
        "        e = Enemy(\"orc\")  # Loome uue vaenlase nimega \"orc\"\n",
        "        self.assertEqual(e.name, \"orc\")  # Kontrollime, et nimi on \"orc\"\n",
        "        self.assertEqual(e.lives, 1)  # Kontrollime, et elusid on 1\n",
        "\n",
        "# Klass, mis testib vaenlasele kahju tekitamist\n",
        "class EnemyDamageTest(unittest.TestCase):\n",
        "\n",
        "    # Testime, et vaenlane kaotab elu kahju saamisel\n",
        "    def test_enemy_takes_damage(self):\n",
        "        e = Enemy(\"goblin\")  # Loome uue vaenlase nimega \"goblin\"\n",
        "        e.receive_damage(1)  # Teeme vaenlasele kahju 1 elupunkti jagu\n",
        "        self.assertEqual(e.lives, 0)  # Kontrollime, et elusid on nüüd 0\n",
        "\n",
        "# Klass, mis testib mängija liikumist\n",
        "class PlayerMovement(unittest.TestCase):\n",
        "\n",
        "    # setUp meetod luuakse enne iga testi\n",
        "    def setUp(self):\n",
        "        self.player = Player(\"Link\")  # Loome uue mängija nimega \"Link\"\n",
        "\n",
        "    # Testime liikumist põhja suunas\n",
        "    def test_move_north(self):\n",
        "        self.player.reset_position()  # Resetime mängija positsiooni (0, 0)\n",
        "        self.player.move_north()  # Liigutame mängijat põhja suunas\n",
        "        self.assertEqual(self.player.position_xy, (0, 1))  # Kontrollime positsiooni\n",
        "\n",
        "    # Testime liikumist ida suunas\n",
        "    def test_move_east(self):\n",
        "        self.player.reset_position()  # Resetime mängija positsiooni (0, 0)\n",
        "        self.player.move_east()  # Liigutame mängijat ida suunas\n",
        "        self.assertEqual(self.player.position_xy, (1, 0))  # Kontrollime positsiooni\n",
        "\n",
        "    # Testime mängija liikumise kokkuvõtet\n",
        "    def test_pretty_position(self):\n",
        "        self.player.reset_position()  # Resetime mängija positsiooni\n",
        "        self.player.move_south()  # Liigutame mängijat lõunasse\n",
        "        self.player.move_south()  # Liigutame mängijat veel kord lõunasse\n",
        "        self.player.move_west()  # Liigutame mängijat läände\n",
        "        self.player.move_west()  # Liigutame mängijat veel kord läände\n",
        "        self.assertEqual(\n",
        "            self.player.pretty_position(),\n",
        "            \"Link went 2 steps south and 2 steps west\"\n",
        "        )  # Kontrollime liikumise kokkuvõtet\n",
        "\n",
        "# Kui skript käivitatakse otse, käivitame kõik testid\n",
        "if __name__ == \"__main__\":\n",
        "    # Loome TestSuite objekti, et koondada kõik testid\n",
        "    suite = unittest.TestSuite()\n",
        "\n",
        "    # Lisame kõik testiklassid testikomplekti\n",
        "    suite.addTests(unittest.TestLoader().loadTestsFromTestCase(EnemyInitTest))\n",
        "    suite.addTests(unittest.TestLoader().loadTestsFromTestCase(EnemyDamageTest))\n",
        "    suite.addTests(unittest.TestLoader().loadTestsFromTestCase(PlayerMovement))\n",
        "\n",
        "    # Käivitame kõik testid\n",
        "    unittest.TextTestRunner().run(suite)\n",
        "\n"
      ],
      "metadata": {
        "colab": {
          "base_uri": "https://localhost:8080/"
        },
        "id": "DyR02ajTEG1t",
        "outputId": "93a44eaa-e8ca-4535-d707-96abf97e81f0"
      },
      "execution_count": 69,
      "outputs": [
        {
          "output_type": "stream",
          "name": "stderr",
          "text": [
            ".....\n",
            "----------------------------------------------------------------------\n",
            "Ran 5 tests in 0.012s\n",
            "\n",
            "OK\n"
          ]
        }
      ]
    },
    {
      "cell_type": "code",
      "source": [
        "def add(a, b):\n",
        "    return a + b\n"
      ],
      "metadata": {
        "id": "580A9gBk972e"
      },
      "execution_count": 52,
      "outputs": []
    },
    {
      "cell_type": "code",
      "source": [
        "import unittest\n",
        "\n",
        "class TestAddFunction(unittest.TestCase):\n",
        "\n",
        "    def test_add_positive_numbers(self):\n",
        "        self.assertEqual(add(1, 2), 3)\n",
        "\n",
        "    def test_add_negative_numbers(self):\n",
        "        self.assertEqual(add(-1, -2), -3)\n",
        "\n",
        "    def test_add_zero(self):\n",
        "        self.assertEqual(add(0, 0), 10)\n",
        "\n",
        "if __name__ == '__main__':\n",
        "    suite = unittest.TestLoader().loadTestsFromTestCase(TestAddFunction)\n",
        "    unittest.TextTestRunner().run(suite)\n",
        "\n"
      ],
      "metadata": {
        "colab": {
          "base_uri": "https://localhost:8080/"
        },
        "id": "bi4nx6Dd99uh",
        "outputId": "62c30b98-ab93-4a3c-f319-a2f2cef8d273"
      },
      "execution_count": 53,
      "outputs": [
        {
          "output_type": "stream",
          "name": "stderr",
          "text": [
            "..F\n",
            "======================================================================\n",
            "FAIL: test_add_zero (__main__.TestAddFunction)\n",
            "----------------------------------------------------------------------\n",
            "Traceback (most recent call last):\n",
            "  File \"<ipython-input-53-54396a5e6328>\", line 12, in test_add_zero\n",
            "    self.assertEqual(add(0, 0), 10)\n",
            "AssertionError: 0 != 10\n",
            "\n",
            "----------------------------------------------------------------------\n",
            "Ran 3 tests in 0.008s\n",
            "\n",
            "FAILED (failures=1)\n"
          ]
        }
      ]
    },
    {
      "cell_type": "code",
      "source": [
        "def divide(a, b):\n",
        "    if b == 0:\n",
        "        raise ValueError(\"Division by zero is undefined\")\n",
        "    return a / b\n"
      ],
      "metadata": {
        "id": "7IpR_JCB-PR0"
      },
      "execution_count": 54,
      "outputs": []
    },
    {
      "cell_type": "code",
      "source": [
        "import unittest\n",
        "\n",
        "# Oletame, et funktsioon divide on määratletud järgmiselt:\n",
        "def divide(x, y):\n",
        "    if y == 0:\n",
        "        raise ValueError(\"Cannot divide by zero\")\n",
        "    return x / y\n",
        "\n",
        "class TestDivideFunction(unittest.TestCase):\n",
        "\n",
        "    def test_divide_by_zero(self):\n",
        "        # Testime, et jagamine nulliga tõstab ValueError erandi\n",
        "        with self.assertRaises(ValueError):\n",
        "            divide(1, 0)\n",
        "\n",
        "    def test_divide_positive_numbers(self):\n",
        "        # Testime, et positiivsete arvude jagamine töötab\n",
        "        self.assertEqual(divide(10, 2), 5)\n",
        "\n",
        "    def test_divide_negative_numbers(self):\n",
        "        # Testime, et negatiivsete arvude jagamine töötab\n",
        "        self.assertEqual(divide(-10, -2), 5)\n",
        "\n",
        "if __name__ == '__main__':\n",
        "    # Loome testikomplekti ja laadime kõik testid TestDivideFunction klassist\n",
        "    suite = unittest.TestLoader().loadTestsFromTestCase(TestDivideFunction)\n",
        "    # Käivitame testikomplekti\n",
        "    unittest.TextTestRunner().run(suite)\n",
        "\n",
        "\n"
      ],
      "metadata": {
        "colab": {
          "base_uri": "https://localhost:8080/"
        },
        "id": "jSCgfQbO-R-s",
        "outputId": "88b5f3d7-18e3-4c34-ab19-3f0c80d5e5ea"
      },
      "execution_count": 81,
      "outputs": [
        {
          "output_type": "stream",
          "name": "stderr",
          "text": [
            "...\n",
            "----------------------------------------------------------------------\n",
            "Ran 3 tests in 0.012s\n",
            "\n",
            "OK\n"
          ]
        }
      ]
    },
    {
      "cell_type": "code",
      "source": [
        "class TestDatabaseOperations(unittest.TestCase):\n",
        "\n",
        "    def setUp(self):\n",
        "        self.db = DatabaseConnection()\n",
        "        self.db.connect()\n",
        "\n",
        "    def tearDown(self):\n",
        "        self.db.disconnect()\n",
        "\n",
        "    def test_database_insert(self):\n",
        "        result = self.db.insert(\"test_data\")\n",
        "        self.assertTrue(result)\n",
        "\n",
        "    def test_database_query(self):\n",
        "        self.db.insert(\"test_data\")\n",
        "        result = self.db.query(\"SELECT * FROM table WHERE data='test_data'\")\n",
        "        self.assertEqual(result, \"test_data\")\n",
        "\n",
        "if __name__ == '__main__':\n",
        "    suite = unittest.TestLoader().loadTestsFromTestCase(TestDatabaseOperations)\n",
        "    unittest.TextTestRunner().run(suite)\n",
        "\n"
      ],
      "metadata": {
        "colab": {
          "base_uri": "https://localhost:8080/"
        },
        "id": "iMukBBPz-iki",
        "outputId": "9c0d9125-928a-4993-a592-f1faa6f0378b"
      },
      "execution_count": 82,
      "outputs": [
        {
          "output_type": "stream",
          "name": "stderr",
          "text": [
            "EE\n",
            "======================================================================\n",
            "ERROR: test_database_insert (__main__.TestDatabaseOperations)\n",
            "----------------------------------------------------------------------\n",
            "Traceback (most recent call last):\n",
            "  File \"<ipython-input-82-17549e8de933>\", line 4, in setUp\n",
            "    self.db = DatabaseConnection()\n",
            "NameError: name 'DatabaseConnection' is not defined\n",
            "\n",
            "======================================================================\n",
            "ERROR: test_database_query (__main__.TestDatabaseOperations)\n",
            "----------------------------------------------------------------------\n",
            "Traceback (most recent call last):\n",
            "  File \"<ipython-input-82-17549e8de933>\", line 4, in setUp\n",
            "    self.db = DatabaseConnection()\n",
            "NameError: name 'DatabaseConnection' is not defined\n",
            "\n",
            "----------------------------------------------------------------------\n",
            "Ran 2 tests in 0.009s\n",
            "\n",
            "FAILED (errors=2)\n"
          ]
        }
      ]
    },
    {
      "cell_type": "code",
      "source": [
        "import os\n",
        "class TestConditional(unittest.TestCase):\n",
        "\n",
        "    @unittest.skip(\"This test is not ready yet\")\n",
        "    def test_not_ready(self):\n",
        "        self.fail(\"This test should not run\")\n",
        "\n",
        "    @unittest.skipIf(sys.platform != \"linux\", \"Requires Linux\")\n",
        "    def test_linux_only_feature(self):\n",
        "        # Linux-spetsiifiline funktsioon\n",
        "        self.assertTrue(os.path.exists(\"/etc/hosts\"))\n",
        "\n",
        "if __name__ == '__main__':\n",
        "    suite = unittest.TestLoader().loadTestsFromTestCase(TestConditional)\n",
        "    unittest.TextTestRunner().run(suite)\n"
      ],
      "metadata": {
        "colab": {
          "base_uri": "https://localhost:8080/"
        },
        "id": "iLNEw-aKF_CP",
        "outputId": "7f949b7f-73c9-44f7-8a64-c6f9b20fe8d6"
      },
      "execution_count": 84,
      "outputs": [
        {
          "output_type": "stream",
          "name": "stderr",
          "text": [
            ".s\n",
            "----------------------------------------------------------------------\n",
            "Ran 2 tests in 0.004s\n",
            "\n",
            "OK (skipped=1)\n"
          ]
        }
      ]
    },
    {
      "cell_type": "code",
      "source": [
        "class TestMathOperations(unittest.TestCase):\n",
        "\n",
        "    def test_addition(self):\n",
        "        self.assertEqual(1 + 1, 2)\n",
        "\n",
        "    def test_subtraction(self):\n",
        "        self.assertEqual(5 - 3, 12)\n",
        "\n",
        "class TestStringOperations(unittest.TestCase):\n",
        "\n",
        "    def test_upper(self):\n",
        "        self.assertEqual(\"hello\".upper(), \"HELLO\")\n",
        "\n",
        "    def test_isupper(self):\n",
        "        self.assertTrue(\"HELLO\".isupper())\n",
        "\n",
        "if __name__ == '__main__':\n",
        "    suite = unittest.TestSuite()\n",
        "    suite.addTest(TestMathOperations('test_addition'))\n",
        "    suite.addTest(TestMathOperations('test_subtraction'))\n",
        "    suite.addTest(TestStringOperations('test_upper'))\n",
        "    suite.addTest(TestStringOperations('test_isupper'))\n",
        "\n",
        "    runner = unittest.TextTestRunner()\n",
        "    runner.run(suite)\n"
      ],
      "metadata": {
        "colab": {
          "base_uri": "https://localhost:8080/"
        },
        "id": "NzikSzhtGHS3",
        "outputId": "1cbe1c72-5e69-4d5a-d845-46ffbc659026"
      },
      "execution_count": 73,
      "outputs": [
        {
          "output_type": "stream",
          "name": "stderr",
          "text": [
            ".F..\n",
            "======================================================================\n",
            "FAIL: test_subtraction (__main__.TestMathOperations)\n",
            "----------------------------------------------------------------------\n",
            "Traceback (most recent call last):\n",
            "  File \"<ipython-input-73-244020920853>\", line 7, in test_subtraction\n",
            "    self.assertEqual(5 - 3, 12)\n",
            "AssertionError: 2 != 12\n",
            "\n",
            "----------------------------------------------------------------------\n",
            "Ran 4 tests in 0.008s\n",
            "\n",
            "FAILED (failures=1)\n"
          ]
        }
      ]
    }
  ]
}